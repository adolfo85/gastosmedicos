{
  "cells": [
    {
      "cell_type": "markdown",
      "metadata": {
        "id": "IaWagVBlrUgp"
      },
      "source": [
        "# Regresión lineal: predecir los gastos médicos de pacientes\n",
        "---"
      ]
    },
    {
      "attachments": {},
      "cell_type": "markdown",
      "metadata": {
        "id": "yFghp46jvs_T"
      },
      "source": [
        "Utilizamos [este](https://www.kaggle.com/mirichoi0218/insurance) dataset de Kaggle que muestra datos de seguros médicos.\n"
      ]
    },
    {
      "cell_type": "markdown",
      "metadata": {
        "id": "4UrKs0DgVEQQ"
      },
      "source": [
        "## Descarga e instalación de librerías"
      ]
    },
    {
      "attachments": {},
      "cell_type": "markdown",
      "metadata": {
        "id": "fYUwO-muhfFW"
      },
      "source": [
        "Descargamos la librería **[regressors](https://pypi.org/project/regressors/)** que ayudará a hacer un análisis más profundo sobre la regresión lineal."
      ]
    },
    {
      "cell_type": "code",
      "execution_count": 8,
      "metadata": {
        "id": "OvBNL6ite32w"
      },
      "outputs": [
        {
          "name": "stdout",
          "output_type": "stream",
          "text": [
            "Requirement already satisfied: pip in /home/adolfo/anaconda3/lib/python3.9/site-packages (23.1.2)\n",
            "Requirement already satisfied: setuptools in /home/adolfo/anaconda3/lib/python3.9/site-packages (67.7.2)\n"
          ]
        }
      ],
      "source": [
        "!pip install --upgrade pip\n",
        "!pip install --upgrade setuptools"
      ]
    },
    {
      "cell_type": "code",
      "execution_count": 9,
      "metadata": {
        "id": "MmK5HvDcvsBQ"
      },
      "outputs": [
        {
          "name": "stdout",
          "output_type": "stream",
          "text": [
            "Requirement already satisfied: ruamel-yaml in /home/adolfo/anaconda3/lib/python3.9/site-packages (0.17.21)\n",
            "Requirement already satisfied: ruamel.yaml.clib>=0.2.6 in /home/adolfo/anaconda3/lib/python3.9/site-packages (from ruamel-yaml) (0.2.7)\n"
          ]
        }
      ],
      "source": [
        "!pip install ruamel-yaml\n"
      ]
    },
    {
      "cell_type": "code",
      "execution_count": 13,
      "metadata": {},
      "outputs": [
        {
          "name": "stdout",
          "output_type": "stream",
          "text": [
            "Collecting git+https://github.com/nsh87/regressors\n",
            "  Cloning https://github.com/nsh87/regressors to /tmp/pip-req-build-9u6cj_dq\n",
            "  Running command git clone --filter=blob:none --quiet https://github.com/nsh87/regressors /tmp/pip-req-build-9u6cj_dq\n",
            "  Resolved https://github.com/nsh87/regressors to commit 10b88343f44c8525ad5411d531bae57e052deb9d\n",
            "  Preparing metadata (setup.py) ... \u001b[?25ldone\n",
            "\u001b[?25hRequirement already satisfied: numpy>=1.6.1 in /home/adolfo/anaconda3/lib/python3.9/site-packages (from regressors==0.0.3) (1.21.5)\n",
            "Requirement already satisfied: scipy>=0.9 in /home/adolfo/anaconda3/lib/python3.9/site-packages (from regressors==0.0.3) (1.9.1)\n",
            "Requirement already satisfied: matplotlib in /home/adolfo/anaconda3/lib/python3.9/site-packages (from regressors==0.0.3) (3.5.2)\n",
            "Requirement already satisfied: scikit-learn>=0.17 in /home/adolfo/anaconda3/lib/python3.9/site-packages (from regressors==0.0.3) (1.0.2)\n",
            "Requirement already satisfied: statsmodels>=0.6.1 in /home/adolfo/anaconda3/lib/python3.9/site-packages (from regressors==0.0.3) (0.13.2)\n",
            "Requirement already satisfied: seaborn in /home/adolfo/anaconda3/lib/python3.9/site-packages (from regressors==0.0.3) (0.11.2)\n",
            "Requirement already satisfied: pandas in /home/adolfo/anaconda3/lib/python3.9/site-packages (from regressors==0.0.3) (1.4.4)\n",
            "Requirement already satisfied: joblib>=0.11 in /home/adolfo/anaconda3/lib/python3.9/site-packages (from scikit-learn>=0.17->regressors==0.0.3) (1.1.0)\n",
            "Requirement already satisfied: threadpoolctl>=2.0.0 in /home/adolfo/anaconda3/lib/python3.9/site-packages (from scikit-learn>=0.17->regressors==0.0.3) (2.2.0)\n",
            "Requirement already satisfied: patsy>=0.5.2 in /home/adolfo/anaconda3/lib/python3.9/site-packages (from statsmodels>=0.6.1->regressors==0.0.3) (0.5.2)\n",
            "Requirement already satisfied: packaging>=21.3 in /home/adolfo/anaconda3/lib/python3.9/site-packages (from statsmodels>=0.6.1->regressors==0.0.3) (21.3)\n",
            "Requirement already satisfied: python-dateutil>=2.8.1 in /home/adolfo/anaconda3/lib/python3.9/site-packages (from pandas->regressors==0.0.3) (2.8.2)\n",
            "Requirement already satisfied: pytz>=2020.1 in /home/adolfo/anaconda3/lib/python3.9/site-packages (from pandas->regressors==0.0.3) (2022.1)\n",
            "Requirement already satisfied: cycler>=0.10 in /home/adolfo/anaconda3/lib/python3.9/site-packages (from matplotlib->regressors==0.0.3) (0.11.0)\n",
            "Requirement already satisfied: fonttools>=4.22.0 in /home/adolfo/anaconda3/lib/python3.9/site-packages (from matplotlib->regressors==0.0.3) (4.25.0)\n",
            "Requirement already satisfied: kiwisolver>=1.0.1 in /home/adolfo/anaconda3/lib/python3.9/site-packages (from matplotlib->regressors==0.0.3) (1.4.2)\n",
            "Requirement already satisfied: pillow>=6.2.0 in /home/adolfo/anaconda3/lib/python3.9/site-packages (from matplotlib->regressors==0.0.3) (9.2.0)\n",
            "Requirement already satisfied: pyparsing>=2.2.1 in /home/adolfo/anaconda3/lib/python3.9/site-packages (from matplotlib->regressors==0.0.3) (3.0.9)\n",
            "Requirement already satisfied: six in /home/adolfo/anaconda3/lib/python3.9/site-packages (from patsy>=0.5.2->statsmodels>=0.6.1->regressors==0.0.3) (1.16.0)\n",
            "Building wheels for collected packages: regressors\n",
            "  Building wheel for regressors (setup.py) ... \u001b[?25ldone\n",
            "\u001b[?25h  Created wheel for regressors: filename=regressors-0.0.3-py2.py3-none-any.whl size=12576 sha256=8010bb7ce0eeafe5061422f7330f62548b14e3b3f2ee2ac61b9b76bf3d8b784f\n",
            "  Stored in directory: /tmp/pip-ephem-wheel-cache-dzftp9oq/wheels/06/88/9f/6583bf2c8a955a1ed2c0ed04db090872d6c4e294f90f4d4033\n",
            "Successfully built regressors\n",
            "Installing collected packages: regressors\n",
            "Successfully installed regressors-0.0.3\n"
          ]
        }
      ],
      "source": [
        "\n",
        "!pip install git+https://github.com/nsh87/regressors\n"
      ]
    },
    {
      "cell_type": "markdown",
      "metadata": {
        "id": "CmT14hghhpnx"
      },
      "source": [
        "## Descargando los datos\n",
        "Descarguemos los datos y veamos cómo se ven."
      ]
    },
    {
      "cell_type": "code",
      "execution_count": null,
      "metadata": {
        "id": "tvuw5k4p7X5A"
      },
      "outputs": [],
      "source": []
    },
    {
      "cell_type": "markdown",
      "metadata": {
        "id": "Co9JvxLVH1IO"
      },
      "source": [
        "## Analizando los datos\n",
        "Se observará cómo se distribuyen los datos de la variable a predecir."
      ]
    },
    {
      "cell_type": "code",
      "execution_count": null,
      "metadata": {
        "id": "sipb4uXehuJg"
      },
      "outputs": [],
      "source": []
    },
    {
      "cell_type": "markdown",
      "metadata": {
        "id": "K5g5QrfEF3rP"
      },
      "source": [
        "Algo que analizar, según este gráfico, es entender qué está pasando con los datos arriba de los 50,000. Parece haber muy pocos datos de este lado."
      ]
    },
    {
      "cell_type": "code",
      "execution_count": null,
      "metadata": {
        "id": "xFnOj_nsFY7k"
      },
      "outputs": [],
      "source": []
    },
    {
      "cell_type": "markdown",
      "metadata": {
        "id": "4PEeh4yXGvrf"
      },
      "source": [
        "En este caso, al ser pocos datos (6 de 1338), eliminaremos estos datos atípicos. A modo didáctico producen más ruido en la predicción que se está intentando hacer en este ejercicio. \n",
        "\n",
        "Sin embargo es importante aclarar que **NO SE DEBEN ELIMINAR** datos atípicos sin antes conocer a alguien que conozca o sea experto en los datos para que pueda guiarnos mejor sobre ellos."
      ]
    },
    {
      "cell_type": "markdown",
      "metadata": {
        "id": "752MF9tch9kZ"
      },
      "source": [
        "## Viendo correlaciones\n",
        "Ahora entendamos nuestros datos, viendo cómo se distribuyen y correlacionan. "
      ]
    },
    {
      "cell_type": "code",
      "execution_count": null,
      "metadata": {
        "id": "XuJpp5wV8dDe"
      },
      "outputs": [],
      "source": []
    },
    {
      "cell_type": "markdown",
      "metadata": {
        "id": "XA8ubtfbiSaI"
      },
      "source": [
        "Puntos interesantes a ver:\n",
        "\n",
        "- Hay 3 grupos de personas diferentes que se clasifican en edad / cargos, esto puede ser un punto a analizar después.\n",
        "\n",
        "En general los valores se distribuyen de manera esperada. Con valores extremos en el caso de los cargos, sin embargo esto es de esperarse pues los cargos en los hospitales pueden variar mucho por quedarse un día más en el hospital o incluso por procedimientos extras.\n",
        "\n",
        "- Parece que los datos están limpios, la variable de índice de masa corporal se distribuye de manera normal o gausiana, lo cual sería esperado en un índice de este tipo."
      ]
    },
    {
      "cell_type": "code",
      "execution_count": null,
      "metadata": {
        "id": "ToWhiu7J8gMe"
      },
      "outputs": [],
      "source": []
    },
    {
      "cell_type": "markdown",
      "metadata": {
        "id": "shLVp1ABjUS8"
      },
      "source": [
        "## Utilizando las demás variables\n",
        "Las demás variables son variables categoricas, sexo, fumador, región. Para poder utilizarlas utilizaremos la función get_dummies de pandas. \n",
        "\n",
        "Ahora la verás en acción"
      ]
    },
    {
      "cell_type": "code",
      "execution_count": null,
      "metadata": {
        "id": "DTWOy4bI-8nw"
      },
      "outputs": [],
      "source": []
    },
    {
      "cell_type": "markdown",
      "metadata": {
        "id": "5XtUoEsXI6yF"
      },
      "source": [
        "## Creando modelos \n",
        "Primero se usará un modelo con todas las variables."
      ]
    },
    {
      "cell_type": "code",
      "execution_count": null,
      "metadata": {
        "id": "tCurIuamkomn"
      },
      "outputs": [],
      "source": []
    },
    {
      "cell_type": "code",
      "execution_count": null,
      "metadata": {
        "id": "_a-wSACvU6QO"
      },
      "outputs": [],
      "source": []
    },
    {
      "cell_type": "markdown",
      "metadata": {
        "id": "xx9k4RifkoIH"
      },
      "source": [
        "## Funciones de métricas\n",
        "El siguiente punto es calcular las métricas del modelo."
      ]
    },
    {
      "cell_type": "code",
      "execution_count": null,
      "metadata": {
        "id": "34PT8XdR8gPx"
      },
      "outputs": [],
      "source": []
    },
    {
      "cell_type": "markdown",
      "metadata": {
        "id": "XKdwcVtuksXw"
      },
      "source": [
        "El siguiente código muestra un resumen general de los resultados."
      ]
    },
    {
      "cell_type": "code",
      "execution_count": null,
      "metadata": {
        "id": "ku9BpienkrV7"
      },
      "outputs": [],
      "source": []
    },
    {
      "cell_type": "markdown",
      "metadata": {
        "id": "BmIOjK4mIrl3"
      },
      "source": [
        "Finalmente tenemos la función que calcula los residuales. Es importante notar que es una simple resta entre los valores reales y los predichos."
      ]
    },
    {
      "cell_type": "code",
      "execution_count": null,
      "metadata": {
        "id": "hFQCPcP_1q1q"
      },
      "outputs": [],
      "source": [
        "\n"
      ]
    },
    {
      "cell_type": "markdown",
      "metadata": {
        "id": "e09lorZOloGy"
      },
      "source": [
        "## Segundo modelo\n",
        "Estos resultados de arriba son buenos, pero se pueden mejorar. Intentaremos hacer algunas transformaciones sobre las variables que pueden ser de utilidad."
      ]
    },
    {
      "cell_type": "code",
      "execution_count": null,
      "metadata": {
        "id": "OhIsEkP4fTRL"
      },
      "outputs": [],
      "source": []
    },
    {
      "cell_type": "markdown",
      "metadata": {
        "id": "-kQE361cJJNd"
      },
      "source": [
        "Analizando el segundo modelo"
      ]
    },
    {
      "cell_type": "code",
      "execution_count": null,
      "metadata": {
        "id": "Rw2-p6ccllQn"
      },
      "outputs": [],
      "source": []
    },
    {
      "cell_type": "code",
      "execution_count": null,
      "metadata": {
        "id": "JruawnsG19rW"
      },
      "outputs": [],
      "source": []
    },
    {
      "cell_type": "code",
      "execution_count": null,
      "metadata": {
        "id": "KTngFQdzWyRJ"
      },
      "outputs": [],
      "source": []
    },
    {
      "cell_type": "code",
      "execution_count": null,
      "metadata": {
        "id": "TNGgo1lMXI1k"
      },
      "outputs": [],
      "source": []
    },
    {
      "cell_type": "code",
      "execution_count": null,
      "metadata": {
        "id": "WcuURYx922SL"
      },
      "outputs": [],
      "source": []
    }
  ],
  "metadata": {
    "colab": {
      "collapsed_sections": [],
      "name": "Proyecto Final Template.ipynb",
      "provenance": []
    },
    "kernelspec": {
      "display_name": "Python 3",
      "name": "python3"
    },
    "language_info": {
      "codemirror_mode": {
        "name": "ipython",
        "version": 3
      },
      "file_extension": ".py",
      "mimetype": "text/x-python",
      "name": "python",
      "nbconvert_exporter": "python",
      "pygments_lexer": "ipython3",
      "version": "3.9.13"
    }
  },
  "nbformat": 4,
  "nbformat_minor": 0
}
