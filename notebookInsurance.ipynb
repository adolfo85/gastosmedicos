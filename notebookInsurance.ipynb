{
  "cells": [
    {
      "cell_type": "markdown",
      "metadata": {
        "id": "IaWagVBlrUgp"
      },
      "source": [
        "# Regresión lineal: predecir los gastos médicos de pacientes\n",
        "---"
      ]
    },
    {
      "attachments": {},
      "cell_type": "markdown",
      "metadata": {
        "id": "yFghp46jvs_T"
      },
      "source": [
        "Utilizamos [este](https://www.kaggle.com/mirichoi0218/insurance) dataset de Kaggle que muestra datos de seguros médicos.\n"
      ]
    },
    {
      "cell_type": "markdown",
      "metadata": {
        "id": "4UrKs0DgVEQQ"
      },
      "source": [
        "## Descarga e instalación de librerías"
      ]
    },
    {
      "attachments": {},
      "cell_type": "markdown",
      "metadata": {
        "id": "fYUwO-muhfFW"
      },
      "source": [
        "Descargamos la librería **[regressors](https://pypi.org/project/regressors/)** que ayudará a hacer un análisis más profundo sobre la regresión lineal. Para instalar regressors prepará el entorno de la siguiente manera: "
      ]
    },
    {
      "cell_type": "code",
      "execution_count": 1,
      "metadata": {
        "id": "OvBNL6ite32w"
      },
      "outputs": [
        {
          "name": "stdout",
          "output_type": "stream",
          "text": [
            "Requirement already satisfied: pip in /home/adolfo/anaconda3/lib/python3.9/site-packages (23.1.2)\n",
            "Requirement already satisfied: setuptools in /home/adolfo/anaconda3/lib/python3.9/site-packages (57.5.0)\n",
            "Collecting setuptools\n",
            "  Using cached setuptools-67.7.2-py3-none-any.whl (1.1 MB)\n",
            "Installing collected packages: setuptools\n",
            "  Attempting uninstall: setuptools\n",
            "    Found existing installation: setuptools 57.5.0\n",
            "    Uninstalling setuptools-57.5.0:\n",
            "      Successfully uninstalled setuptools-57.5.0\n",
            "\u001b[31mERROR: pip's dependency resolver does not currently take into account all the packages that are installed. This behaviour is the source of the following dependency conflicts.\n",
            "spyder 5.3.3 requires pyqt5<5.16, which is not installed.\n",
            "spyder 5.3.3 requires pyqtwebengine<5.16, which is not installed.\n",
            "conda-repo-cli 1.0.20 requires clyent==1.2.1, but you have clyent 1.2.2 which is incompatible.\n",
            "conda-repo-cli 1.0.20 requires nbformat==5.4.0, but you have nbformat 5.5.0 which is incompatible.\u001b[0m\u001b[31m\n",
            "\u001b[0mSuccessfully installed setuptools-67.7.2\n"
          ]
        }
      ],
      "source": [
        "!pip install --upgrade pip\n",
        "!pip install --upgrade setuptools"
      ]
    },
    {
      "cell_type": "code",
      "execution_count": 2,
      "metadata": {
        "id": "MmK5HvDcvsBQ"
      },
      "outputs": [
        {
          "name": "stdout",
          "output_type": "stream",
          "text": [
            "Requirement already satisfied: ruamel-yaml in /home/adolfo/anaconda3/lib/python3.9/site-packages (0.17.21)\n",
            "Requirement already satisfied: ruamel.yaml.clib>=0.2.6 in /home/adolfo/anaconda3/lib/python3.9/site-packages (from ruamel-yaml) (0.2.7)\n"
          ]
        }
      ],
      "source": [
        "!pip install ruamel-yaml\n"
      ]
    },
    {
      "cell_type": "code",
      "execution_count": 3,
      "metadata": {},
      "outputs": [
        {
          "name": "stdout",
          "output_type": "stream",
          "text": [
            "Collecting git+https://github.com/nsh87/regressors\n",
            "  Cloning https://github.com/nsh87/regressors to /tmp/pip-req-build-beduo_st\n",
            "  Running command git clone --filter=blob:none --quiet https://github.com/nsh87/regressors /tmp/pip-req-build-beduo_st\n",
            "  Resolved https://github.com/nsh87/regressors to commit 10b88343f44c8525ad5411d531bae57e052deb9d\n",
            "  Preparing metadata (setup.py) ... \u001b[?25ldone\n",
            "\u001b[?25hRequirement already satisfied: numpy>=1.6.1 in /home/adolfo/anaconda3/lib/python3.9/site-packages (from regressors==0.0.3) (1.21.5)\n",
            "Requirement already satisfied: scipy>=0.9 in /home/adolfo/anaconda3/lib/python3.9/site-packages (from regressors==0.0.3) (1.9.1)\n",
            "Requirement already satisfied: matplotlib in /home/adolfo/anaconda3/lib/python3.9/site-packages (from regressors==0.0.3) (3.5.2)\n",
            "Requirement already satisfied: scikit-learn>=0.17 in /home/adolfo/anaconda3/lib/python3.9/site-packages (from regressors==0.0.3) (1.0.2)\n",
            "Requirement already satisfied: statsmodels>=0.6.1 in /home/adolfo/anaconda3/lib/python3.9/site-packages (from regressors==0.0.3) (0.13.2)\n",
            "Requirement already satisfied: seaborn in /home/adolfo/anaconda3/lib/python3.9/site-packages (from regressors==0.0.3) (0.11.2)\n",
            "Requirement already satisfied: pandas in /home/adolfo/anaconda3/lib/python3.9/site-packages (from regressors==0.0.3) (1.4.4)\n",
            "Requirement already satisfied: joblib>=0.11 in /home/adolfo/anaconda3/lib/python3.9/site-packages (from scikit-learn>=0.17->regressors==0.0.3) (1.1.0)\n",
            "Requirement already satisfied: threadpoolctl>=2.0.0 in /home/adolfo/anaconda3/lib/python3.9/site-packages (from scikit-learn>=0.17->regressors==0.0.3) (2.2.0)\n",
            "Requirement already satisfied: patsy>=0.5.2 in /home/adolfo/anaconda3/lib/python3.9/site-packages (from statsmodels>=0.6.1->regressors==0.0.3) (0.5.2)\n",
            "Requirement already satisfied: packaging>=21.3 in /home/adolfo/anaconda3/lib/python3.9/site-packages (from statsmodels>=0.6.1->regressors==0.0.3) (21.3)\n",
            "Requirement already satisfied: python-dateutil>=2.8.1 in /home/adolfo/anaconda3/lib/python3.9/site-packages (from pandas->regressors==0.0.3) (2.8.2)\n",
            "Requirement already satisfied: pytz>=2020.1 in /home/adolfo/anaconda3/lib/python3.9/site-packages (from pandas->regressors==0.0.3) (2022.1)\n",
            "Requirement already satisfied: cycler>=0.10 in /home/adolfo/anaconda3/lib/python3.9/site-packages (from matplotlib->regressors==0.0.3) (0.11.0)\n",
            "Requirement already satisfied: fonttools>=4.22.0 in /home/adolfo/anaconda3/lib/python3.9/site-packages (from matplotlib->regressors==0.0.3) (4.25.0)\n",
            "Requirement already satisfied: kiwisolver>=1.0.1 in /home/adolfo/anaconda3/lib/python3.9/site-packages (from matplotlib->regressors==0.0.3) (1.4.2)\n",
            "Requirement already satisfied: pillow>=6.2.0 in /home/adolfo/anaconda3/lib/python3.9/site-packages (from matplotlib->regressors==0.0.3) (9.2.0)\n",
            "Requirement already satisfied: pyparsing>=2.2.1 in /home/adolfo/anaconda3/lib/python3.9/site-packages (from matplotlib->regressors==0.0.3) (3.0.9)\n",
            "Requirement already satisfied: six in /home/adolfo/anaconda3/lib/python3.9/site-packages (from patsy>=0.5.2->statsmodels>=0.6.1->regressors==0.0.3) (1.16.0)\n"
          ]
        }
      ],
      "source": [
        "\n",
        "!pip install git+https://github.com/nsh87/regressors\n"
      ]
    },
    {
      "cell_type": "code",
      "execution_count": 4,
      "metadata": {},
      "outputs": [],
      "source": [
        "import pandas as pd\n",
        "import seaborn as sns\n",
        "sns.set(style='whitegrid', context='notebook')"
      ]
    },
    {
      "attachments": {},
      "cell_type": "markdown",
      "metadata": {
        "id": "CmT14hghhpnx"
      },
      "source": [
        "## Carga de datos"
      ]
    },
    {
      "attachments": {},
      "cell_type": "markdown",
      "metadata": {},
      "source": [
        "Charges es la variable predictora en el análisis"
      ]
    },
    {
      "cell_type": "code",
      "execution_count": 5,
      "metadata": {
        "id": "tvuw5k4p7X5A"
      },
      "outputs": [
        {
          "data": {
            "text/html": [
              "<div>\n",
              "<style scoped>\n",
              "    .dataframe tbody tr th:only-of-type {\n",
              "        vertical-align: middle;\n",
              "    }\n",
              "\n",
              "    .dataframe tbody tr th {\n",
              "        vertical-align: top;\n",
              "    }\n",
              "\n",
              "    .dataframe thead th {\n",
              "        text-align: right;\n",
              "    }\n",
              "</style>\n",
              "<table border=\"1\" class=\"dataframe\">\n",
              "  <thead>\n",
              "    <tr style=\"text-align: right;\">\n",
              "      <th></th>\n",
              "      <th>age</th>\n",
              "      <th>sex</th>\n",
              "      <th>bmi</th>\n",
              "      <th>children</th>\n",
              "      <th>smoker</th>\n",
              "      <th>region</th>\n",
              "      <th>charges</th>\n",
              "    </tr>\n",
              "  </thead>\n",
              "  <tbody>\n",
              "    <tr>\n",
              "      <th>0</th>\n",
              "      <td>19</td>\n",
              "      <td>female</td>\n",
              "      <td>27.900</td>\n",
              "      <td>0</td>\n",
              "      <td>yes</td>\n",
              "      <td>southwest</td>\n",
              "      <td>16884.92400</td>\n",
              "    </tr>\n",
              "    <tr>\n",
              "      <th>1</th>\n",
              "      <td>18</td>\n",
              "      <td>male</td>\n",
              "      <td>33.770</td>\n",
              "      <td>1</td>\n",
              "      <td>no</td>\n",
              "      <td>southeast</td>\n",
              "      <td>1725.55230</td>\n",
              "    </tr>\n",
              "    <tr>\n",
              "      <th>2</th>\n",
              "      <td>28</td>\n",
              "      <td>male</td>\n",
              "      <td>33.000</td>\n",
              "      <td>3</td>\n",
              "      <td>no</td>\n",
              "      <td>southeast</td>\n",
              "      <td>4449.46200</td>\n",
              "    </tr>\n",
              "    <tr>\n",
              "      <th>3</th>\n",
              "      <td>33</td>\n",
              "      <td>male</td>\n",
              "      <td>22.705</td>\n",
              "      <td>0</td>\n",
              "      <td>no</td>\n",
              "      <td>northwest</td>\n",
              "      <td>21984.47061</td>\n",
              "    </tr>\n",
              "    <tr>\n",
              "      <th>4</th>\n",
              "      <td>32</td>\n",
              "      <td>male</td>\n",
              "      <td>28.880</td>\n",
              "      <td>0</td>\n",
              "      <td>no</td>\n",
              "      <td>northwest</td>\n",
              "      <td>3866.85520</td>\n",
              "    </tr>\n",
              "  </tbody>\n",
              "</table>\n",
              "</div>"
            ],
            "text/plain": [
              "   age     sex     bmi  children smoker     region      charges\n",
              "0   19  female  27.900         0    yes  southwest  16884.92400\n",
              "1   18    male  33.770         1     no  southeast   1725.55230\n",
              "2   28    male  33.000         3     no  southeast   4449.46200\n",
              "3   33    male  22.705         0     no  northwest  21984.47061\n",
              "4   32    male  28.880         0     no  northwest   3866.85520"
            ]
          },
          "execution_count": 5,
          "metadata": {},
          "output_type": "execute_result"
        }
      ],
      "source": [
        "df = pd.read_csv('insurance.csv')\n",
        "df.head()\n",
        "\n"
      ]
    },
    {
      "cell_type": "markdown",
      "metadata": {
        "id": "Co9JvxLVH1IO"
      },
      "source": [
        "## Analizando los datos\n",
        "Se observará cómo se distribuyen los datos de la variable a predecir."
      ]
    },
    {
      "cell_type": "code",
      "execution_count": null,
      "metadata": {
        "id": "sipb4uXehuJg"
      },
      "outputs": [],
      "source": []
    },
    {
      "cell_type": "markdown",
      "metadata": {
        "id": "K5g5QrfEF3rP"
      },
      "source": [
        "Algo que analizar, según este gráfico, es entender qué está pasando con los datos arriba de los 50,000. Parece haber muy pocos datos de este lado."
      ]
    },
    {
      "cell_type": "code",
      "execution_count": null,
      "metadata": {
        "id": "xFnOj_nsFY7k"
      },
      "outputs": [],
      "source": []
    },
    {
      "cell_type": "markdown",
      "metadata": {
        "id": "4PEeh4yXGvrf"
      },
      "source": [
        "En este caso, al ser pocos datos (6 de 1338), eliminaremos estos datos atípicos. A modo didáctico producen más ruido en la predicción que se está intentando hacer en este ejercicio. \n",
        "\n",
        "Sin embargo es importante aclarar que **NO SE DEBEN ELIMINAR** datos atípicos sin antes conocer a alguien que conozca o sea experto en los datos para que pueda guiarnos mejor sobre ellos."
      ]
    },
    {
      "cell_type": "markdown",
      "metadata": {
        "id": "752MF9tch9kZ"
      },
      "source": [
        "## Viendo correlaciones\n",
        "Ahora entendamos nuestros datos, viendo cómo se distribuyen y correlacionan. "
      ]
    },
    {
      "cell_type": "code",
      "execution_count": null,
      "metadata": {
        "id": "XuJpp5wV8dDe"
      },
      "outputs": [],
      "source": []
    },
    {
      "cell_type": "markdown",
      "metadata": {
        "id": "XA8ubtfbiSaI"
      },
      "source": [
        "Puntos interesantes a ver:\n",
        "\n",
        "- Hay 3 grupos de personas diferentes que se clasifican en edad / cargos, esto puede ser un punto a analizar después.\n",
        "\n",
        "En general los valores se distribuyen de manera esperada. Con valores extremos en el caso de los cargos, sin embargo esto es de esperarse pues los cargos en los hospitales pueden variar mucho por quedarse un día más en el hospital o incluso por procedimientos extras.\n",
        "\n",
        "- Parece que los datos están limpios, la variable de índice de masa corporal se distribuye de manera normal o gausiana, lo cual sería esperado en un índice de este tipo."
      ]
    },
    {
      "cell_type": "code",
      "execution_count": null,
      "metadata": {
        "id": "ToWhiu7J8gMe"
      },
      "outputs": [],
      "source": []
    },
    {
      "cell_type": "markdown",
      "metadata": {
        "id": "shLVp1ABjUS8"
      },
      "source": [
        "## Utilizando las demás variables\n",
        "Las demás variables son variables categoricas, sexo, fumador, región. Para poder utilizarlas utilizaremos la función get_dummies de pandas. \n",
        "\n",
        "Ahora la verás en acción"
      ]
    },
    {
      "cell_type": "code",
      "execution_count": null,
      "metadata": {
        "id": "DTWOy4bI-8nw"
      },
      "outputs": [],
      "source": []
    },
    {
      "cell_type": "markdown",
      "metadata": {
        "id": "5XtUoEsXI6yF"
      },
      "source": [
        "## Creando modelos \n",
        "Primero se usará un modelo con todas las variables."
      ]
    },
    {
      "cell_type": "code",
      "execution_count": null,
      "metadata": {
        "id": "tCurIuamkomn"
      },
      "outputs": [],
      "source": []
    },
    {
      "cell_type": "code",
      "execution_count": null,
      "metadata": {
        "id": "_a-wSACvU6QO"
      },
      "outputs": [],
      "source": []
    },
    {
      "cell_type": "markdown",
      "metadata": {
        "id": "xx9k4RifkoIH"
      },
      "source": [
        "## Funciones de métricas\n",
        "El siguiente punto es calcular las métricas del modelo."
      ]
    },
    {
      "cell_type": "code",
      "execution_count": null,
      "metadata": {
        "id": "34PT8XdR8gPx"
      },
      "outputs": [],
      "source": []
    },
    {
      "cell_type": "markdown",
      "metadata": {
        "id": "XKdwcVtuksXw"
      },
      "source": [
        "El siguiente código muestra un resumen general de los resultados."
      ]
    },
    {
      "cell_type": "code",
      "execution_count": null,
      "metadata": {
        "id": "ku9BpienkrV7"
      },
      "outputs": [],
      "source": []
    },
    {
      "cell_type": "markdown",
      "metadata": {
        "id": "BmIOjK4mIrl3"
      },
      "source": [
        "Finalmente tenemos la función que calcula los residuales. Es importante notar que es una simple resta entre los valores reales y los predichos."
      ]
    },
    {
      "cell_type": "code",
      "execution_count": null,
      "metadata": {
        "id": "hFQCPcP_1q1q"
      },
      "outputs": [],
      "source": [
        "\n"
      ]
    },
    {
      "cell_type": "markdown",
      "metadata": {
        "id": "e09lorZOloGy"
      },
      "source": [
        "## Segundo modelo\n",
        "Estos resultados de arriba son buenos, pero se pueden mejorar. Intentaremos hacer algunas transformaciones sobre las variables que pueden ser de utilidad."
      ]
    },
    {
      "cell_type": "code",
      "execution_count": null,
      "metadata": {
        "id": "OhIsEkP4fTRL"
      },
      "outputs": [],
      "source": []
    },
    {
      "cell_type": "markdown",
      "metadata": {
        "id": "-kQE361cJJNd"
      },
      "source": [
        "Analizando el segundo modelo"
      ]
    },
    {
      "cell_type": "code",
      "execution_count": null,
      "metadata": {
        "id": "Rw2-p6ccllQn"
      },
      "outputs": [],
      "source": []
    },
    {
      "cell_type": "code",
      "execution_count": null,
      "metadata": {
        "id": "JruawnsG19rW"
      },
      "outputs": [],
      "source": []
    },
    {
      "cell_type": "code",
      "execution_count": null,
      "metadata": {
        "id": "KTngFQdzWyRJ"
      },
      "outputs": [],
      "source": []
    },
    {
      "cell_type": "code",
      "execution_count": null,
      "metadata": {
        "id": "TNGgo1lMXI1k"
      },
      "outputs": [],
      "source": []
    },
    {
      "cell_type": "code",
      "execution_count": null,
      "metadata": {
        "id": "WcuURYx922SL"
      },
      "outputs": [],
      "source": []
    }
  ],
  "metadata": {
    "colab": {
      "collapsed_sections": [],
      "name": "Proyecto Final Template.ipynb",
      "provenance": []
    },
    "kernelspec": {
      "display_name": "Python 3",
      "name": "python3"
    },
    "language_info": {
      "codemirror_mode": {
        "name": "ipython",
        "version": 3
      },
      "file_extension": ".py",
      "mimetype": "text/x-python",
      "name": "python",
      "nbconvert_exporter": "python",
      "pygments_lexer": "ipython3",
      "version": "3.9.13"
    }
  },
  "nbformat": 4,
  "nbformat_minor": 0
}
